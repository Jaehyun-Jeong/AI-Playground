{
 "cells": [
  {
   "cell_type": "code",
   "execution_count": 1,
   "id": "36ac9d71-2f6e-4771-ae4b-2cd9ec596cf0",
   "metadata": {},
   "outputs": [],
   "source": [
    "from pandas import read_csv\n",
    "from model import HumanTree"
   ]
  },
  {
   "cell_type": "code",
   "execution_count": 2,
   "id": "6451e98f-940f-44d2-9d54-f62a2ab67acc",
   "metadata": {},
   "outputs": [],
   "source": [
    "df = read_csv(\"../Datasets/diamond_rock.csv\")\n",
    "\n",
    "featureList = ['hardness', 'brightness']\n",
    "targetList = ['sort']"
   ]
  },
  {
   "cell_type": "code",
   "execution_count": 3,
   "id": "c7050e5a-6888-43d5-8416-204ad5ea1095",
   "metadata": {},
   "outputs": [],
   "source": [
    "HT = HumanTree()\n",
    "HT.start_train(featureList, targetList, df)"
   ]
  },
  {
   "cell_type": "code",
   "execution_count": 4,
   "id": "94ecd03f-fe5c-41c7-9c99-fe47b544dcad",
   "metadata": {},
   "outputs": [],
   "source": [
    "HT.build_branch('brightness', 1)"
   ]
  },
  {
   "cell_type": "code",
   "execution_count": 14,
   "id": "c67cc2cf-e362-4a55-8234-5f77e9f684b5",
   "metadata": {},
   "outputs": [],
   "source": [
    "HT.select_node(1, 1)"
   ]
  },
  {
   "cell_type": "code",
   "execution_count": 15,
   "id": "93c1b6f9-5ad5-4770-84f3-771ae07cfbb0",
   "metadata": {},
   "outputs": [
    {
     "data": {
      "text/plain": [
       "2"
      ]
     },
     "execution_count": 15,
     "metadata": {},
     "output_type": "execute_result"
    }
   ],
   "source": [
    "HT._currentNodeIdx"
   ]
  }
 ],
 "metadata": {
  "kernelspec": {
   "display_name": "Python 3 (ipykernel)",
   "language": "python",
   "name": "python3"
  },
  "language_info": {
   "codemirror_mode": {
    "name": "ipython",
    "version": 3
   },
   "file_extension": ".py",
   "mimetype": "text/x-python",
   "name": "python",
   "nbconvert_exporter": "python",
   "pygments_lexer": "ipython3",
   "version": "3.12.0"
  }
 },
 "nbformat": 4,
 "nbformat_minor": 5
}
